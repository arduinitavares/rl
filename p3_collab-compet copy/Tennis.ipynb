{
 "cells": [
  {
   "cell_type": "markdown",
   "metadata": {},
   "source": [
    "# Collaboration and Competition\n",
    "\n",
    "---\n",
    "\n",
    "In this notebook, you will learn how to use the Unity ML-Agents environment for the third project of the [Deep Reinforcement Learning Nanodegree](https://www.udacity.com/course/deep-reinforcement-learning-nanodegree--nd893) program.\n",
    "\n",
    "### 1. Start the Environment\n",
    "\n",
    "We begin by importing the necessary packages.  If the code cell below returns an error, please revisit the project instructions to double-check that you have installed [Unity ML-Agents](https://github.com/Unity-Technologies/ml-agents/blob/master/docs/Installation.md) and [NumPy](http://www.numpy.org/)."
   ]
  },
  {
   "cell_type": "code",
   "execution_count": 1,
   "metadata": {},
   "outputs": [],
   "source": [
    "from unityagents import UnityEnvironment\n",
    "from collections import deque\n",
    "import numpy as np"
   ]
  },
  {
   "cell_type": "markdown",
   "metadata": {},
   "source": [
    "Next, we will start the environment!  **_Before running the code cell below_**, change the `file_name` parameter to match the location of the Unity environment that you downloaded.\n",
    "\n",
    "- **Mac**: `\"path/to/Tennis.app\"`\n",
    "- **Windows** (x86): `\"path/to/Tennis_Windows_x86/Tennis.exe\"`\n",
    "- **Windows** (x86_64): `\"path/to/Tennis_Windows_x86_64/Tennis.exe\"`\n",
    "- **Linux** (x86): `\"path/to/Tennis_Linux/Tennis.x86\"`\n",
    "- **Linux** (x86_64): `\"path/to/Tennis_Linux/Tennis.x86_64\"`\n",
    "- **Linux** (x86, headless): `\"path/to/Tennis_Linux_NoVis/Tennis.x86\"`\n",
    "- **Linux** (x86_64, headless): `\"path/to/Tennis_Linux_NoVis/Tennis.x86_64\"`\n",
    "\n",
    "For instance, if you are using a Mac, then you downloaded `Tennis.app`.  If this file is in the same folder as the notebook, then the line below should appear as follows:\n",
    "```\n",
    "env = UnityEnvironment(file_name=\"Tennis.app\")\n",
    "```"
   ]
  },
  {
   "cell_type": "code",
   "execution_count": 2,
   "metadata": {},
   "outputs": [
    {
     "name": "stderr",
     "output_type": "stream",
     "text": [
      "INFO:unityagents:\n",
      "'Academy' started successfully!\n",
      "Unity Academy name: Academy\n",
      "        Number of Brains: 1\n",
      "        Number of External Brains : 1\n",
      "        Lesson number : 0\n",
      "        Reset Parameters :\n",
      "\t\t\n",
      "Unity brain name: TennisBrain\n",
      "        Number of Visual Observations (per agent): 0\n",
      "        Vector Observation space type: continuous\n",
      "        Vector Observation space size (per agent): 8\n",
      "        Number of stacked Vector Observation: 3\n",
      "        Vector Action space type: continuous\n",
      "        Vector Action space size (per agent): 2\n",
      "        Vector Action descriptions: , \n"
     ]
    }
   ],
   "source": [
    "env = UnityEnvironment(file_name=\"Tennis.app\")"
   ]
  },
  {
   "cell_type": "markdown",
   "metadata": {},
   "source": [
    "Environments contain **_brains_** which are responsible for deciding the actions of their associated agents. Here we check for the first brain available, and set it as the default brain we will be controlling from Python."
   ]
  },
  {
   "cell_type": "code",
   "execution_count": 3,
   "metadata": {},
   "outputs": [],
   "source": [
    "# get the default brain\n",
    "brain_name = env.brain_names[0]\n",
    "brain = env.brains[brain_name]"
   ]
  },
  {
   "cell_type": "markdown",
   "metadata": {},
   "source": [
    "### 2. Examine the State and Action Spaces\n",
    "\n",
    "In this environment, two agents control rackets to bounce a ball over a net. If an agent hits the ball over the net, it receives a reward of +0.1.  If an agent lets a ball hit the ground or hits the ball out of bounds, it receives a reward of -0.01.  Thus, the goal of each agent is to keep the ball in play.\n",
    "\n",
    "The observation space consists of 8 variables corresponding to the position and velocity of the ball and racket. Two continuous actions are available, corresponding to movement toward (or away from) the net, and jumping. \n",
    "\n",
    "Run the code cell below to print some information about the environment."
   ]
  },
  {
   "cell_type": "code",
   "execution_count": 4,
   "metadata": {},
   "outputs": [
    {
     "name": "stdout",
     "output_type": "stream",
     "text": [
      "Number of agents: 2\n",
      "Size of each action: 2\n",
      "There are 2 agents. Each observes a state with length: 24\n",
      "The state for the first agent looks like: [ 0.          0.          0.          0.          0.          0.\n",
      "  0.          0.          0.          0.          0.          0.\n",
      "  0.          0.          0.          0.         -6.65278625 -1.5\n",
      " -0.          0.          6.83172083  6.         -0.          0.        ]\n"
     ]
    }
   ],
   "source": [
    "# reset the environment\n",
    "env_info = env.reset(train_mode=True)[brain_name]\n",
    "\n",
    "# number of agents \n",
    "num_agents = len(env_info.agents)\n",
    "print('Number of agents:', num_agents)\n",
    "\n",
    "# size of each action\n",
    "action_size = brain.vector_action_space_size\n",
    "print('Size of each action:', action_size)\n",
    "\n",
    "# examine the state space \n",
    "states = env_info.vector_observations\n",
    "state_size = states.shape[1]\n",
    "print('There are {} agents. Each observes a state with length: {}'.format(states.shape[0], state_size))\n",
    "print('The state for the first agent looks like:', states[0])"
   ]
  },
  {
   "cell_type": "markdown",
   "metadata": {},
   "source": [
    "### 3. Take Random Actions in the Environment\n",
    "\n",
    "In the next code cell, you will learn how to use the Python API to control the agents and receive feedback from the environment.\n",
    "\n",
    "Once this cell is executed, you will watch the agents' performance, if they select actions at random with each time step.  A window should pop up that allows you to observe the agents.\n",
    "\n",
    "Of course, as part of the project, you'll have to change the code so that the agents are able to use their experiences to gradually choose better actions when interacting with the environment!"
   ]
  },
  {
   "cell_type": "code",
   "execution_count": 5,
   "metadata": {},
   "outputs": [
    {
     "name": "stdout",
     "output_type": "stream",
     "text": [
      "Score (max over agents) from episode 1: 0.0\n",
      "Score (max over agents) from episode 2: 0.0\n",
      "Score (max over agents) from episode 3: 0.0\n",
      "Score (max over agents) from episode 4: 0.0\n",
      "Score (max over agents) from episode 5: 0.0\n"
     ]
    }
   ],
   "source": [
    "for i in range(1, 6):                                      # play game for 5 episodes\n",
    "    env_info = env.reset(train_mode=False)[brain_name]     # reset the environment    \n",
    "    states = env_info.vector_observations                  # get the current state (for each agent)\n",
    "    scores = np.zeros(num_agents)                          # initialize the score (for each agent)\n",
    "    while True:\n",
    "        actions = np.random.randn(num_agents, action_size) # select an action (for each agent)\n",
    "        actions = np.clip(actions, -1, 1)                  # all actions between -1 and 1\n",
    "        env_info = env.step(actions)[brain_name]           # send all actions to tne environment\n",
    "        next_states = env_info.vector_observations         # get next state (for each agent)\n",
    "        rewards = env_info.rewards                         # get reward (for each agent)\n",
    "        dones = env_info.local_done                        # see if episode finished\n",
    "        scores += env_info.rewards                         # update the score (for each agent)\n",
    "        states = next_states                               # roll over states to next time step\n",
    "        if np.any(dones):                                  # exit loop if episode finished\n",
    "            break\n",
    "    print('Score (max over agents) from episode {}: {}'.format(i, np.max(scores)))"
   ]
  },
  {
   "cell_type": "markdown",
   "metadata": {},
   "source": [
    "When finished, you can close the environment."
   ]
  },
  {
   "cell_type": "code",
   "execution_count": 9,
   "metadata": {},
   "outputs": [],
   "source": [
    "# env.close()"
   ]
  },
  {
   "cell_type": "markdown",
   "metadata": {},
   "source": [
    "### 4. It's Your Turn!\n",
    "\n",
    "Now it's your turn to train your own agent to solve the environment!  When training the environment, set `train_mode=True`, so that the line for resetting the environment looks like the following:\n",
    "```python\n",
    "env_info = env.reset(train_mode=True)[brain_name]\n",
    "```"
   ]
  },
  {
   "cell_type": "code",
   "execution_count": 10,
   "metadata": {},
   "outputs": [],
   "source": [
    "from ddpg_agent import Agent, ReplayBuffer, GaussianNoise\n",
    "from ddpg_model import Actor, Critic\n",
    "from ddpg_trainer import DDPGTrainer\n",
    "from torch import optim\n",
    "import torch\n",
    "import time\n",
    "import numpy as np"
   ]
  },
  {
   "cell_type": "code",
   "execution_count": 11,
   "metadata": {},
   "outputs": [],
   "source": [
    "SEED = 42\n",
    "device = 'cuda:0' if torch.cuda.is_available() else 'cpu:0'"
   ]
  },
  {
   "cell_type": "code",
   "execution_count": 12,
   "metadata": {},
   "outputs": [
    {
     "name": "stdout",
     "output_type": "stream",
     "text": [
      "Number of agents: 2,state size: 24 , action size: 2\n"
     ]
    }
   ],
   "source": [
    "# Extract state dimensionality from env.\n",
    "brain_name = env.brain_names[0]\n",
    "env_info = env.reset(train_mode=True)[brain_name]\n",
    "state_size = env_info.vector_observations.shape[-1]\n",
    "\n",
    "# Extract action dimensionality and number of agents from env.\n",
    "brain = env.brains[brain_name]\n",
    "action_size = brain.vector_action_space_size\n",
    "num_agents = len(env_info.agents)\n",
    "\n",
    "# Display relevant environment information.\n",
    "print(f'Number of agents: {num_agents},'\n",
    "      + f'state size: {state_size} '\n",
    "      + f', action size: {action_size}')"
   ]
  },
  {
   "cell_type": "code",
   "execution_count": 13,
   "metadata": {},
   "outputs": [],
   "source": [
    "batch_size = 1024\n",
    "# Initialize the replay buffer from which experiences are gathered for\n",
    "# training the agent.\n",
    "replay_buffer = ReplayBuffer(\n",
    "    seed=SEED,\n",
    "    buffer_size=int(1e5),\n",
    "    batch_size=batch_size\n",
    ")"
   ]
  },
  {
   "cell_type": "code",
   "execution_count": 14,
   "metadata": {},
   "outputs": [],
   "source": [
    "# Initialize local and target Actor Networks and optimizer.\n",
    "actor_local = Actor(state_size, action_size, SEED,\n",
    "                    400, 300).to(device)\n",
    "actor_target = Actor(state_size, action_size, SEED,\n",
    "                        400, 300).to(device)\n",
    "actor_optimizer = optim.Adam(actor_local.parameters(), lr=.000025)\n",
    "\n",
    "# Initialize local and target Critic Networks and optimizer.\n",
    "critic_local = Critic(state_size, action_size, SEED,\n",
    "                        400, 300).to(device)\n",
    "critic_target = Critic(state_size, action_size, SEED,\n",
    "                        400, 300).to(device)\n",
    "critic_optimizer = optim.Adam(critic_local.parameters(), lr=0.00025,\n",
    "                                weight_decay=0)\n",
    "\n",
    "# Initialize local and target Actor Networks and optimizer.\n",
    "actor_local_2 = Actor(state_size, action_size, SEED,\n",
    "                    400, 300).to(device)\n",
    "actor_target_2 = Actor(state_size, action_size, SEED,\n",
    "                        400, 300).to(device)\n",
    "actor_optimizer_2 = optim.Adam(actor_local.parameters(), lr=.000025)\n",
    "\n",
    "# Initialize local and target Critic Networks and optimizer.\n",
    "critic_local_2 = Critic(state_size, action_size, SEED,\n",
    "                        400, 300).to(device)\n",
    "critic_target_2 = Critic(state_size, action_size, SEED,\n",
    "                        400, 300).to(device)\n",
    "critic_optimizer_2 = optim.Adam(critic_local.parameters(), lr=0.00025,\n",
    "                                weight_decay=0)\n",
    "\n",
    "# Initialize Gaussian noise to reduce generalization error.\n",
    "noise = GaussianNoise(action_size, SEED, mu=0.0, sigma=0.3)\n",
    "\n",
    "# Create agent object used for training.\n",
    "agent_0 = Agent(\n",
    "    seed=SEED,\n",
    "    memory=replay_buffer,\n",
    "    batch_size=batch_size,\n",
    "    actor_local=actor_local,\n",
    "    actor_target=actor_target,\n",
    "    actor_optimizer=actor_optimizer,\n",
    "    critic_local=critic_local,\n",
    "    critic_target=critic_target,\n",
    "    critic_optimizer=critic_optimizer,\n",
    "    noise=noise,\n",
    "    gamma=1,\n",
    "    tau=0.001\n",
    ")\n",
    "\n",
    "agent_1 = Agent(\n",
    "    seed=SEED,\n",
    "    memory=replay_buffer,\n",
    "    batch_size=batch_size,\n",
    "    actor_local=actor_local_2,\n",
    "    actor_target=actor_target_2,\n",
    "    actor_optimizer=actor_optimizer_2,\n",
    "    critic_local=critic_local_2,\n",
    "    critic_target=critic_target_2,\n",
    "    critic_optimizer=critic_optimizer_2,\n",
    "    noise=noise,\n",
    "    gamma=1,\n",
    "    tau=0.001\n",
    ")\n",
    "\n",
    "# Initialize DDPGTrainer object with relevant arguments.\n",
    "trainer = DDPGTrainer(\n",
    "    env=env,\n",
    "    update_frequency=1,\n",
    "    num_updates=5,\n",
    "    max_episode_length=1000,\n",
    "    save_dir='save_dir',\n",
    "    score_window_size=100)\n",
    "\n",
    "trainer.agents.append(agent_0)\n",
    "trainer.agents.append(agent_1)"
   ]
  },
  {
   "cell_type": "code",
   "execution_count": 15,
   "metadata": {},
   "outputs": [
    {
     "data": {
      "text/plain": [
       "array([[-0.12229451, -0.62025894],\n",
       "       [-0.40697375,  0.15452493]])"
      ]
     },
     "execution_count": 15,
     "metadata": {},
     "output_type": "execute_result"
    }
   ],
   "source": [
    "actions"
   ]
  },
  {
   "cell_type": "code",
   "execution_count": 16,
   "metadata": {},
   "outputs": [
    {
     "name": "stdout",
     "output_type": "stream",
     "text": [
      "Starting training...\n",
      "Episode 10\tAverage Score: 0.04\n",
      "Episode 20\tAverage Score: 0.02\n",
      "Episode 30\tAverage Score: 0.03\n",
      "Episode 40\tAverage Score: 0.02\n",
      "Episode 50\tAverage Score: 0.02\n",
      "Episode 60\tAverage Score: 0.02\n",
      "Episode 70\tAverage Score: 0.02\n",
      "Episode 80\tAverage Score: 0.02\n",
      "Episode 90\tAverage Score: 0.02\n",
      "Episode 100\tAverage Score: 0.02\n",
      "Episode 110\tAverage Score: 0.02\n",
      "Episode 120\tAverage Score: 0.03\n",
      "Episode 130\tAverage Score: 0.03\n",
      "Episode 140\tAverage Score: 0.03\n",
      "Episode 150\tAverage Score: 0.03\n",
      "Episode 160\tAverage Score: 0.03\n",
      "Episode 170\tAverage Score: 0.03\n",
      "Episode 180\tAverage Score: 0.02\n",
      "Episode 190\tAverage Score: 0.03\n",
      "Episode 200\tAverage Score: 0.02\n",
      "Episode 210\tAverage Score: 0.02\n",
      "Episode 220\tAverage Score: 0.02\n",
      "Episode 230\tAverage Score: 0.02\n",
      "Episode 240\tAverage Score: 0.02\n",
      "Episode 250\tAverage Score: 0.02\n",
      "Episode 260\tAverage Score: 0.02\n",
      "Episode 270\tAverage Score: 0.02\n",
      "Episode 278\tAverage Score: 0.02"
     ]
    }
   ],
   "source": [
    "n_episodes = 10000\n",
    "score_window_size = 100\n",
    "target_score = 1\n",
    "# Initialize timer and notify of training start.\n",
    "t_start = time.time()\n",
    "print('Starting training...')\n",
    "\n",
    "# Train the agent for n_episodes.\n",
    "for i in range(1, n_episodes + 1):\n",
    "    for agent_index in range(1, 3):\n",
    "        # Step through the training process and notify progress\n",
    "        trainer.train_step()\n",
    "        trainer.print_status(put_new_line=False)\n",
    "\n",
    "        # After every 10 episodes, initiate new line of notification.\n",
    "        if trainer.i_episode % 10 == 0:\n",
    "            trainer.print_status(put_new_line=True)\n",
    "\n",
    "        # If mean score over last score_window_size episodes exceeds\n",
    "        # target score, plot training progress and save trainer\n",
    "        if len(trainer.scores) > score_window_size and \\\n",
    "                trainer.get_running_mean_score() > target_score:\n",
    "            trainer.plt_mavg()\n",
    "            print('\\nEnvironment is solved.')\n",
    "            print('Saving trainer...')\n",
    "            trainer.save()\n",
    "            print('Done.')\n",
    "            break\n",
    "\n",
    "# Close environment and notify of training time.\n",
    "print('\\nFinished training, closing env')\n",
    "env.close()\n",
    "t_end = time.time()\n",
    "delta = t_end - t_start\n",
    "minutes = delta / 60\n",
    "print(f'Training took {minutes:.1f} minutes')"
   ]
  },
  {
   "cell_type": "code",
   "execution_count": null,
   "metadata": {},
   "outputs": [],
   "source": [
    "rewards"
   ]
  },
  {
   "cell_type": "code",
   "execution_count": null,
   "metadata": {},
   "outputs": [],
   "source": [
    "states.shape[0]"
   ]
  },
  {
   "cell_type": "code",
   "execution_count": null,
   "metadata": {},
   "outputs": [],
   "source": [
    "x = 0"
   ]
  },
  {
   "cell_type": "code",
   "execution_count": null,
   "metadata": {},
   "outputs": [],
   "source": [
    "x = (x + 1) % 2\n",
    "print(x)"
   ]
  },
  {
   "cell_type": "code",
   "execution_count": null,
   "metadata": {},
   "outputs": [],
   "source": [
    "x += 1\n",
    "print(x)"
   ]
  },
  {
   "cell_type": "code",
   "execution_count": null,
   "metadata": {},
   "outputs": [],
   "source": [
    "states.shape"
   ]
  }
 ],
 "metadata": {
  "kernelspec": {
   "display_name": "drlnd",
   "language": "python",
   "name": "drlnd"
  },
  "language_info": {
   "codemirror_mode": {
    "name": "ipython",
    "version": 3
   },
   "file_extension": ".py",
   "mimetype": "text/x-python",
   "name": "python",
   "nbconvert_exporter": "python",
   "pygments_lexer": "ipython3",
   "version": "3.6.13"
  },
  "vscode": {
   "interpreter": {
    "hash": "a5e36ac6a21e329c2cec267b08e4f28884519c7e5682f29504bd17199cc3d203"
   }
  }
 },
 "nbformat": 4,
 "nbformat_minor": 2
}
