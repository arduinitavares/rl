{
 "cells": [
  {
   "cell_type": "markdown",
   "metadata": {},
   "source": [
    "## Notes from the article\n",
    "1) Need a replay bufffer class;\n",
    "2) Need a class for a target Q network (function of s, a);\n",
    "3) Use batch norm; \n",
    "- it did not worked out well so I removed it;\n",
    "4) The policy is deterministic, how to handle explore / exploit?;\n",
    "5) We have two actor and two critic networks, a target for each;\n",
    "6) Updates are soft, accorsing to: theta_prime = tau * theta + (1 - tau) * theta_prime, with tau << 1;\n",
    "7) The target actor is just the evaluation actor plus some noise process;\n",
    "8) They use Ornstein uhlenbeck or Gaussian Noise. It will need a class for noise;"
   ]
  },
  {
   "cell_type": "markdown",
   "metadata": {},
   "source": []
  },
  {
   "cell_type": "markdown",
   "metadata": {},
   "source": [
    "## Noise for exploration matter\n",
    "### the rnstein-Uhlenbeck process or generating noise did not work out well for me so I succesfully replaced it for a gaussian noise"
   ]
  },
  {
   "cell_type": "markdown",
   "metadata": {},
   "source": [
    "## The agent\n",
    "- The choices regarding \"tau\" I got it myself by trying because, according to the paper, I should have used 0.00025 and 0.000025 for actor and critics and it didn't work out;\n",
    "- The \"gamma\" variable stayed the same as recommended by the scientific article;\n",
    "- so did the batch size;"
   ]
  },
  {
   "cell_type": "code",
   "execution_count": 3,
   "metadata": {},
   "outputs": [
    {
     "data": {
      "text/html": [
       "<img src=\"output.png\"/>"
      ],
      "text/plain": [
       "<IPython.core.display.Image object>"
      ]
     },
     "execution_count": 3,
     "metadata": {},
     "output_type": "execute_result"
    }
   ],
   "source": [
    "from IPython.display import Image\n",
    "from IPython.core.display import HTML \n",
    "Image(url= \"output.png\")"
   ]
  },
  {
   "cell_type": "markdown",
   "metadata": {},
   "source": [
    "# Future work\n",
    "1) In terms of performance, I would like to try a 4DPG by having one agent using the GPU and the others using the CPU;\n",
    "2) I have read that batch normalization is a good thing to do, but I have not been able to implement it successfully;\n"
   ]
  },
  {
   "cell_type": "markdown",
   "metadata": {},
   "source": []
  }
 ],
 "metadata": {
  "kernelspec": {
   "display_name": "drlnd",
   "language": "python",
   "name": "drlnd"
  },
  "language_info": {
   "codemirror_mode": {
    "name": "ipython",
    "version": 3
   },
   "file_extension": ".py",
   "mimetype": "text/x-python",
   "name": "python",
   "nbconvert_exporter": "python",
   "pygments_lexer": "ipython3",
   "version": "3.6.13"
  },
  "orig_nbformat": 4,
  "vscode": {
   "interpreter": {
    "hash": "31f2aee4e71d21fbe5cf8b01ff0e069b9275f58929596ceb00d14d90e3e16cd6"
   }
  }
 },
 "nbformat": 4,
 "nbformat_minor": 2
}
